{
 "cells": [
  {
   "cell_type": "markdown",
   "metadata": {},
   "source": [
    "# Project Tour: Replication of \"Coronavirus: Impact on Stock Prices and Growth Expectations\"\n",
    "\n",
    "This notebook provides a brief tour of our project replicating the paper by Niels J. Gormsen and Ralph S.J. Koijen (2020): \"Coronavirus: Impact on Stock Prices and Growth Expectations\".\n",
    "\n",
    "In this tour, we'll explore:\n",
    "1. The data sources we used\n",
    "2. How we processed the raw data\n",
    "3. Key figure replications\n",
    "4. Extension of the analysis with updated data\n",
    "\n",
    "Let's begin by importing the necessary libraries."
   ]
  },
  {
   "cell_type": "code",
   "execution_count": null,
   "metadata": {},
   "outputs": [],
   "source": [
    "import pandas as pd\n",
    "import numpy as np\n",
    "import matplotlib.pyplot as plt\n",
    "import seaborn as sns\n",
    "from pathlib import Path\n",
    "import os\n",
    "from datetime import datetime\n",
    "from settings import config\n",
    "from calc_functions import calc_pct_returns\n",
    "\n",
    "# Get configuration values\n",
    "DATA_DIR = config(\"DATA_DIR\")\n",
    "OUTPUT_DIR = config(\"OUTPUT_DIR\")\n",
    "START_DATE = config(\"START_DATE\")\n",
    "PAPER_END_DATE = config(\"PAPER_END_DATE\")\n",
    "CURR_END_DATE = config(\"CURR_END_DATE\")\n"
   ]
  },
  {
   "cell_type": "markdown",
   "metadata": {},
   "source": [
    "## 1. Project Overview\n",
    "\n",
    "The paper by Gormsen and Koijen examines how financial markets responded to the COVID-19 pandemic in early 2020. The authors use data from equity and dividend futures markets to extract insights about investors' expectations for economic growth.\n",
    "\n",
    "Key components of our replication include:\n",
    "* Reproducing Figure 1 showing the response of stock and bond markets\n",
    "* Replicating the calculation of growth expectations from dividend futures\n",
    "* Extending the analysis with data beyond the paper's original time frame\n",
    "\n",
    "For this replication, we primarily focused on the following figures and analyses from the paper:\n",
    "- Figure 1: The response of stock and bond markets\n",
    "- Table 1: Predictive Regressions of Dividend Growth on Dividend Yields\n",
    "- Figure 5: Expected dividend and GDP growth\n",
    "\n",
    "\n",
    "Let's examine each component of our replication in more detail."
   ]
  },
  {
   "cell_type": "markdown",
   "metadata": {},
   "source": [
    "## 2. Data Sources\n",
    "\n",
    "Our replication relies on the following data sources:\n",
    "\n",
    "1. **Stock Market Indices**: S&P 500 (US), Euro Stoxx 50 (EU), and Nikkei 225 (Japan)\n",
    "2. **30-year Treasury Yields**: US, Germany, and Japan\n",
    "3. **Dividend Data**: Actual dividend values for the three indices\n",
    "4. **Dividend Futures**: Futures contracts on dividends for the three indices\n",
    "\n",
    "We obtained this data from Bloomberg terminals, with a fallback to CSV files when Bloomberg access wasn't available.\n",
    "\n",
    "Let's load some of our cleaned data to examine:"
   ]
  },
  {
   "cell_type": "code",
   "execution_count": null,
   "metadata": {},
   "outputs": [],
   "source": [
    "# Load cleaned index data\n",
    "clean_index_path = Path(DATA_DIR) / \"clean\" / \"index_data_clean.parquet\"\n",
    "if clean_index_path.exists():\n",
    "    index_data = pd.read_parquet(clean_index_path)\n",
    "    print(f\"Index data shape: {index_data.shape}\")\n",
    "    display(index_data.head())\n",
    "else:\n",
    "    print(\"Index data file not found. Run data cleaning first.\")"
   ]
  },
  {
   "cell_type": "code",
   "execution_count": null,
   "metadata": {},
   "outputs": [],
   "source": [
    "# Load dividend data\n",
    "div_data_path = Path(DATA_DIR) / \"clean\" / \"dividend_data_clean.parquet\"\n",
    "if div_data_path.exists():\n",
    "    div_data = pd.read_parquet(div_data_path)\n",
    "    print(f\"Dividend data shape: {div_data.shape}\")\n",
    "    display(div_data.head())\n",
    "else:\n",
    "    print(\"Dividend data file not found. Run data cleaning first.\")"
   ]
  },
  {
   "cell_type": "code",
   "execution_count": null,
   "metadata": {},
   "outputs": [],
   "source": [
    "# Load dividend futures data\n",
    "fut_data_path = Path(DATA_DIR) / \"clean\" / \"dividend_futures_clean.parquet\"\n",
    "if fut_data_path.exists():\n",
    "    fut_data = pd.read_parquet(fut_data_path)\n",
    "    print(f\"Dividend futures data shape: {fut_data.shape}\")\n",
    "    display(fut_data.head())\n",
    "else:\n",
    "    print(\"Dividend futures data file not found. Run data cleaning first.\")"
   ]
  },
  {
   "cell_type": "markdown",
   "metadata": {},
   "source": [
    "## 3. Data Processing\n",
    "\n",
    "Our data processing pipeline consists of several key steps:\n",
    "\n",
    "1. **Data Collection**: We collect data from Bloomberg or load from CSV files\n",
    "2. **Data Cleaning**: We standardize formats, rename columns, handle missing values, and resample data to quarterly frequency (end of quarter)\n",
    "3. **Calculations**: We compute percentage returns and other metrics\n",
    "\n",
    "Our final merged cleaned dividend dataset:"
   ]
  },
  {
   "cell_type": "code",
   "execution_count": null,
   "metadata": {},
   "outputs": [],
   "source": [
    "fut_data_path = Path(DATA_DIR) / \"clean\" / \"merged_dividend_data_quarterly.parquet\"\n",
    "if fut_data_path.exists():\n",
    "    fut_data = pd.read_parquet(fut_data_path)\n",
    "    print(f\"Merged quarterly dividend data shape: {fut_data.shape}\")\n",
    "    display(fut_data.head())\n",
    "else:\n",
    "    print(\"Merged data file not found. Run data cleaning first.\")"
   ]
  },
  {
   "cell_type": "markdown",
   "metadata": {},
   "source": [
    "## 4. Figure 1 Replication\n",
    "\n",
    "Figure 1 shows the response of stock and bond markets during the early COVID-19 period. Let's examine our replication of this figure:"
   ]
  },
  {
   "cell_type": "code",
   "execution_count": null,
   "metadata": {},
   "outputs": [],
   "source": [
    "# Calculate percentage returns\n",
    "returns = calc_pct_returns(DATA_DIR)\n",
    "\n",
    "# Create a figure similar to Figure 1\n",
    "fig, axes = plt.subplots(nrows=2, ncols=3, figsize=(15, 10))\n",
    "axes = axes.flatten()\n",
    "\n",
    "for i, col in enumerate(returns.columns):\n",
    "    axes[i].plot(returns.index, returns[col], label=col)\n",
    "    axes[i].set_title(col)\n",
    "    axes[i].set_xlim([returns.index[0], returns.index[-1]])\n",
    "    \n",
    "    # Generate ticks at the start of each month\n",
    "    xticks = pd.date_range(start=returns.index[0], end=returns.index[-1], freq=\"MS\")\n",
    "    axes[i].set_xticks(xticks)\n",
    "    axes[i].set_xticklabels([x.strftime(\"%b\") for x in xticks])\n",
    "    axes[i].grid()\n",
    "    \n",
    "    # Add vertical lines for key events\n",
    "    key_dates = [\n",
    "        pd.Timestamp('2020-01-23'),  # Wuhan lockdown\n",
    "        pd.Timestamp('2020-02-22'),  # Italy quarantine\n",
    "        pd.Timestamp('2020-03-11'),  # US travel ban\n",
    "        pd.Timestamp('2020-03-13'),  # US emergency declaration\n",
    "        pd.Timestamp('2020-03-24')   # US stimulus news\n",
    "    ]\n",
    "    \n",
    "    for date in key_dates:\n",
    "        if date >= returns.index[0] and date <= returns.index[-1]:\n",
    "            axes[i].axvline(x=date, color='gray', linestyle='--', alpha=0.7)\n",
    "\n",
    "plt.tight_layout()\n",
    "plt.show()"
   ]
  },
  {
   "cell_type": "markdown",
   "metadata": {},
   "source": [
    "## 5. Table 1 Replication: Predictive Regressions of Dividend Growth on Dividend Yields\n",
    "\n",
    "Table 1 in the paper shows results from predictive regressions similar to equation (3), where realized dividend growth is regressed onto the ex-ante two-year dividend yield. This is a key part of the methodology used to forecast dividend growth from dividend futures.\n"
   ]
  },
  {
   "cell_type": "code",
   "execution_count": null,
   "metadata": {},
   "outputs": [],
   "source": [
    "import pandas as pd\n",
    "\n",
    "# Load the regression results\n",
    "df = pd.read_csv('../_output/tables/table1_results.csv')\n",
    "\n",
    "# Extract the key values\n",
    "try:\n",
    "    # Find the coefficient on equity yield (e_it^(2))\n",
    "    equity_yield_coef = df.loc[0, '$e_{it}^{(2)}$'] if '$e_{it}^{(2)}$' in df.columns else \"Not found\"\n",
    "    \n",
    "    # Get the R-squared value\n",
    "    r_squared = df.loc[0, '$R^2$'] if '$R^2$' in df.columns else \"Not found\"\n",
    "    \n",
    "    # Get number of observations\n",
    "    n_obs = df.loc[0, '\\# Obs'] if '\\# Obs' in df.columns else \"Not found\"\n",
    "    \n",
    "    # Print just the key findings\n",
    "    print(\"Key regression findings:\")\n",
    "    print(f\"- Coefficient on equity yield: {equity_yield_coef}\")\n",
    "    print(f\"- R²: {r_squared}\")\n",
    "    print(f\"- Number of observations: {n_obs}\")\n",
    "    print(\"This regression relates dividend yields to future dividend growth, which is essential for forecasting growth expectations\")\n",
    "    \n",
    "except Exception as e:\n",
    "    print(f\"Error extracting values: {e}\")\n",
    "    print(\"Column names in the dataframe:\", df.columns.tolist())"
   ]
  },
  {
   "cell_type": "markdown",
   "metadata": {},
   "source": [
    "## 6. Figure 5 Replication: Expected Dividend and GDP Growth from Dividend Futures\n",
    "\n",
    "Figure 5 shows the change in expected dividend and GDP growth relative to January 1, 2020. This visualization captures how investors revised their growth expectations during the early COVID-19 period.\n",
    "\n",
    "### Panel A: Expected Dividend Growth\n",
    "![Figure 5 Panel A](../_output/figures/paper_figure5_panel_a.png)\n",
    "\n",
    "### Panel B: Expected GDP Growth\n",
    "![Figure 5 Panel B](../_output/figures/paper_figure5_panel_b.png)\n",
    "\n",
    "### Updated Figure 5 (Extended Analysis)\n",
    "![Updated Figure 5](../_output/figures/updated_figure5_combined.png)\n",
    "\n",
    "\n",
    "The figures above show:\n",
    "- By July 20, expected dividend growth was down by 8% in the US and Japan, 14% in the EU\n",
    "- Expected GDP growth over the next year was down by 2% in the US and Japan, 3% in the EU\n",
    "- Our extended analysis (bottom figure) shows how growth expectations evolved beyond the original paper's time frame"
   ]
  },
  {
   "cell_type": "markdown",
   "metadata": {},
   "source": [
    "## 7. Challenges and Insights\n",
    "\n",
    "During this replication project, we encountered several challenges:\n",
    "\n",
    "1. **Data Availability**: Finding dividend futures data was challenging, as this data is not readily available in many public datasets.\n",
    "\n",
    "2. **Bloomberg Access**: Access to Bloomberg terminals was limited, so we had to create a fallback mechanism using CSV files.\n",
    "\n",
    "3. **Methodology Details**: Some methodological details in the paper were described briefly, requiring careful reading and interpretation.\n",
    "\n",
    "Key insights from our replication:\n",
    "\n",
    "1. The paper's methodology for extracting growth expectations from dividend futures provides valuable forward-looking indicators.\n",
    "\n",
    "2. Financial markets reacted dramatically to the COVID-19 pandemic, with significant variations across different regions.\n",
    "\n",
    "3. The extended analysis shows how markets evolved beyond the paper's original timeframe, providing additional context for the initial reaction."
   ]
  },
  {
   "cell_type": "markdown",
   "metadata": {},
   "source": [
    "## 8. Conclusion\n",
    "\n",
    "Our replication successfully reproduces the key figures and analyses from Gormsen and Koijen's paper \"Coronavirus: Impact on Stock Prices and Growth Expectations.\" We've verified that our calculations match the paper's values within a reasonable tolerance and extended the analysis with more recent data.\n",
    "\n",
    "This project demonstrates the value of financial markets as a source of forward-looking information during crisis periods, and how dividend futures can be used to extract growth expectations."
   ]
  }
 ],
 "metadata": {
  "kernelspec": {
   "display_name": "finm",
   "language": "python",
   "name": "python3"
  },
  "language_info": {
   "name": "python",
   "version": "3.12.8"
  }
 },
 "nbformat": 4,
 "nbformat_minor": 2
}

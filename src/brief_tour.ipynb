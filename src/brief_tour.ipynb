{
 "cells": [
  {
   "cell_type": "code",
   "execution_count": null,
   "metadata": {},
   "outputs": [],
   "source": [
    "from matplotlib import pyplot as plt\n",
    "from settings import config\n",
    "from pathlib import Path\n",
    "DATA_DIR = config(\"DATA_DIR\")\n",
    "OUTPUT_DIR = config(\"OUTPUT_DIR\")\n",
    "START_DATE = config(\"START_DATE\")\n",
    "END_DATE = config(\"END_DATE\")\n",
    "PAPER_END_DATE = config(\"PAPER_END_DATE\")\n"
   ]
  },
  {
   "cell_type": "code",
   "execution_count": null,
   "metadata": {},
   "outputs": [],
   "source": [
    "from pull_bloomberg import pull_equity_and_bond_index_data\n",
    "df= pull_equity_and_bond_index_data(START_DATE,END_DATE)"
   ]
  },
  {
   "cell_type": "code",
   "execution_count": null,
   "metadata": {},
   "outputs": [],
   "source": [
    "df.head()"
   ]
  },
  {
   "cell_type": "code",
   "execution_count": null,
   "metadata": {},
   "outputs": [],
   "source": [
    "from clean_data import clean_index_data\n",
    "bbg_df_cleaned = clean_index_data(PAPER_END_DATE, DATA_DIR)\n",
    "bbg_df_cleaned.head()"
   ]
  },
  {
   "cell_type": "code",
   "execution_count": null,
   "metadata": {},
   "outputs": [],
   "source": [
    "from calc_functions import calc_pct_returns\n",
    "returns = calc_pct_returns(DATA_DIR)\n",
    "import pandas as pd"
   ]
  },
  {
   "cell_type": "code",
   "execution_count": null,
   "metadata": {},
   "outputs": [],
   "source": [
    "\n",
    "fig, axes = plt.subplots(nrows=2, ncols=3, figsize=(15, 10))  # 2 rows, 3 columns\n",
    "\n",
    "# Flatten axes for easy iteration\n",
    "axes = axes.flatten()\n",
    "\n",
    "for i, col in enumerate(returns.columns):\n",
    "    # Plot the data\n",
    "    axes[i].plot(returns.index, returns[col], label=col)\n",
    "    axes[i].set_title(col)\n",
    "    \n",
    "    # 1) Set the x-axis to start at the first date and end at the last date in returns\n",
    "    axes[i].set_xlim([returns.index[0], returns.index[-1]])\n",
    "    \n",
    "    # 2) Generate ticks at the start of each month (MS = Month Start)\n",
    "    xticks = pd.date_range(start=returns.index[0], end=returns.index[-1], freq=\"MS\")\n",
    "    \n",
    "    # 3) Apply those ticks and label them with three-letter month abbreviations\n",
    "    axes[i].set_xticks(xticks)\n",
    "    axes[i].set_xticklabels([x.strftime(\"%b\") for x in xticks])\n",
    "    \n",
    "    # Add grid\n",
    "    axes[i].grid()"
   ]
  },
  {
   "cell_type": "markdown",
   "metadata": {},
   "source": []
  },
  {
   "cell_type": "code",
   "execution_count": null,
   "metadata": {},
   "outputs": [],
   "source": []
  },
  {
   "cell_type": "code",
   "execution_count": null,
   "metadata": {},
   "outputs": [],
   "source": []
  },
  {
   "cell_type": "markdown",
   "metadata": {},
   "source": []
  }
 ],
 "metadata": {
  "language_info": {
   "name": "python"
  }
 },
 "nbformat": 4,
 "nbformat_minor": 2
}
